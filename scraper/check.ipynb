{
 "cells": [
  {
   "cell_type": "code",
   "execution_count": 10,
   "id": "24dc5687",
   "metadata": {},
   "outputs": [],
   "source": [
    "import datetime\n",
    "import time\n",
    "\n",
    "from selenium import webdriver\n",
    "from selenium.webdriver.chrome.service import Service\n",
    "from selenium.webdriver.common.by import By\n",
    "from webdriver_manager.chrome import ChromeDriverManager"
   ]
  },
  {
   "cell_type": "code",
   "execution_count": 11,
   "id": "6f489b5d",
   "metadata": {},
   "outputs": [],
   "source": [
    "def start_selenium(url):\n",
    "    options = webdriver.ChromeOptions()\n",
    "    options.add_argument(\"--headless\")\n",
    "    service = Service(ChromeDriverManager().install())\n",
    "    driver = webdriver.Chrome(service=service)\n",
    "    driver.get(url)\n",
    "    time.sleep(2)\n",
    "    return driver"
   ]
  },
  {
   "cell_type": "code",
   "execution_count": 12,
   "id": "7b666400",
   "metadata": {},
   "outputs": [
    {
     "name": "stdout",
     "output_type": "stream",
     "text": [
      "31st AGM Minutes - Unilever Nepal Limited (UNL)\n",
      "['Notice']\n",
      "Declaration of 5% Bonus Share and 10% Cash Dividend - National Life Insurance Company Limited (NLICL)\n",
      "['Notice', 'Cash Dividend', 'Bonus Share']\n",
      "Janautthan Samudayic Laghubitta Bittiya Sanstha Limited has published its provisional financial statement for the third quarter of the fiscal year 2081/82\n",
      "['Quarterly Report']\n",
      "Himalayan Distillery Limited has published its revised provisional financial statement for the third quarter of the fiscal year 2081/82\n",
      "['Quarterly Report']\n",
      "Bhugol Energy Development Company Limited has published its provisional financial statement for the third quarter of the fiscal year 2081/82\n"
     ]
    },
    {
     "ename": "NoSuchElementException",
     "evalue": "Message: no such element: Unable to locate element: {\"method\":\"xpath\",\"selector\":\"//*[@id='aspnetForm']/div[4]/div[5]/div/div/table/tbody/tr[5]/td[2]\"}\n  (Session info: chrome=135.0.7049.52); For documentation on this error, please visit: https://www.selenium.dev/documentation/webdriver/troubleshooting/errors#no-such-element-exception\nStacktrace:\n#0 0x560be107675a <unknown>\n#1 0x560be0b294b0 <unknown>\n#2 0x560be0b7a9b3 <unknown>\n#3 0x560be0b7aba1 <unknown>\n#4 0x560be0bc91f4 <unknown>\n#5 0x560be0ba05bd <unknown>\n#6 0x560be0bc65e0 <unknown>\n#7 0x560be0ba0363 <unknown>\n#8 0x560be0b6cd63 <unknown>\n#9 0x560be0b6d9c1 <unknown>\n#10 0x560be103ba6b <unknown>\n#11 0x560be103f951 <unknown>\n#12 0x560be1023b62 <unknown>\n#13 0x560be10404c4 <unknown>\n#14 0x560be100813f <unknown>\n#15 0x560be10646f8 <unknown>\n#16 0x560be10648d6 <unknown>\n#17 0x560be10755a6 <unknown>\n#18 0x7f6c3a69caa4 <unknown>\n#19 0x7f6c3a729c3c <unknown>\n",
     "output_type": "error",
     "traceback": [
      "\u001b[0;31m---------------------------------------------------------------------------\u001b[0m",
      "\u001b[0;31mNoSuchElementException\u001b[0m                    Traceback (most recent call last)",
      "Cell \u001b[0;32mIn[12], line 14\u001b[0m\n\u001b[1;32m     12\u001b[0m \u001b[38;5;28;01mif\u001b[39;00m link_url:\n\u001b[1;32m     13\u001b[0m     driver \u001b[38;5;241m=\u001b[39m start_selenium(link_url)\n\u001b[0;32m---> 14\u001b[0m     tags_path \u001b[38;5;241m=\u001b[39m \u001b[43mdriver\u001b[49m\u001b[38;5;241;43m.\u001b[39;49m\u001b[43mfind_element\u001b[49m\u001b[43m(\u001b[49m\u001b[43mBy\u001b[49m\u001b[38;5;241;43m.\u001b[39;49m\u001b[43mXPATH\u001b[49m\u001b[43m,\u001b[49m\u001b[38;5;124;43m\"\u001b[39;49m\u001b[38;5;124;43m//*[@id=\u001b[39;49m\u001b[38;5;124;43m'\u001b[39;49m\u001b[38;5;124;43maspnetForm\u001b[39;49m\u001b[38;5;124;43m'\u001b[39;49m\u001b[38;5;124;43m]/div[4]/div[5]/div/div/table/tbody/tr[5]/td[2]\u001b[39;49m\u001b[38;5;124;43m\"\u001b[39;49m\u001b[43m)\u001b[49m\u001b[38;5;241m.\u001b[39mtext\n\u001b[1;32m     15\u001b[0m     fields \u001b[38;5;241m=\u001b[39m [field\u001b[38;5;241m.\u001b[39mstrip() \u001b[38;5;28;01mfor\u001b[39;00m field \u001b[38;5;129;01min\u001b[39;00m tags_path\u001b[38;5;241m.\u001b[39msplit(\u001b[38;5;124m\"\u001b[39m\u001b[38;5;124m    \u001b[39m\u001b[38;5;124m\"\u001b[39m) \u001b[38;5;28;01mif\u001b[39;00m field\u001b[38;5;241m.\u001b[39mstrip()]\n\u001b[1;32m     16\u001b[0m     \u001b[38;5;28mprint\u001b[39m(fields)\n",
      "File \u001b[0;32m~/Work/webscrape/myenv/lib/python3.12/site-packages/selenium/webdriver/remote/webdriver.py:898\u001b[0m, in \u001b[0;36mWebDriver.find_element\u001b[0;34m(self, by, value)\u001b[0m\n\u001b[1;32m    895\u001b[0m         \u001b[38;5;28;01mraise\u001b[39;00m NoSuchElementException(\u001b[38;5;124mf\u001b[39m\u001b[38;5;124m\"\u001b[39m\u001b[38;5;124mCannot locate relative element with: \u001b[39m\u001b[38;5;132;01m{\u001b[39;00mby\u001b[38;5;241m.\u001b[39mroot\u001b[38;5;132;01m}\u001b[39;00m\u001b[38;5;124m\"\u001b[39m)\n\u001b[1;32m    896\u001b[0m     \u001b[38;5;28;01mreturn\u001b[39;00m elements[\u001b[38;5;241m0\u001b[39m]\n\u001b[0;32m--> 898\u001b[0m \u001b[38;5;28;01mreturn\u001b[39;00m \u001b[38;5;28;43mself\u001b[39;49m\u001b[38;5;241;43m.\u001b[39;49m\u001b[43mexecute\u001b[49m\u001b[43m(\u001b[49m\u001b[43mCommand\u001b[49m\u001b[38;5;241;43m.\u001b[39;49m\u001b[43mFIND_ELEMENT\u001b[49m\u001b[43m,\u001b[49m\u001b[43m \u001b[49m\u001b[43m{\u001b[49m\u001b[38;5;124;43m\"\u001b[39;49m\u001b[38;5;124;43musing\u001b[39;49m\u001b[38;5;124;43m\"\u001b[39;49m\u001b[43m:\u001b[49m\u001b[43m \u001b[49m\u001b[43mby\u001b[49m\u001b[43m,\u001b[49m\u001b[43m \u001b[49m\u001b[38;5;124;43m\"\u001b[39;49m\u001b[38;5;124;43mvalue\u001b[39;49m\u001b[38;5;124;43m\"\u001b[39;49m\u001b[43m:\u001b[49m\u001b[43m \u001b[49m\u001b[43mvalue\u001b[49m\u001b[43m}\u001b[49m\u001b[43m)\u001b[49m[\u001b[38;5;124m\"\u001b[39m\u001b[38;5;124mvalue\u001b[39m\u001b[38;5;124m\"\u001b[39m]\n",
      "File \u001b[0;32m~/Work/webscrape/myenv/lib/python3.12/site-packages/selenium/webdriver/remote/webdriver.py:429\u001b[0m, in \u001b[0;36mWebDriver.execute\u001b[0;34m(self, driver_command, params)\u001b[0m\n\u001b[1;32m    427\u001b[0m response \u001b[38;5;241m=\u001b[39m \u001b[38;5;28mself\u001b[39m\u001b[38;5;241m.\u001b[39mcommand_executor\u001b[38;5;241m.\u001b[39mexecute(driver_command, params)\n\u001b[1;32m    428\u001b[0m \u001b[38;5;28;01mif\u001b[39;00m response:\n\u001b[0;32m--> 429\u001b[0m     \u001b[38;5;28;43mself\u001b[39;49m\u001b[38;5;241;43m.\u001b[39;49m\u001b[43merror_handler\u001b[49m\u001b[38;5;241;43m.\u001b[39;49m\u001b[43mcheck_response\u001b[49m\u001b[43m(\u001b[49m\u001b[43mresponse\u001b[49m\u001b[43m)\u001b[49m\n\u001b[1;32m    430\u001b[0m     response[\u001b[38;5;124m\"\u001b[39m\u001b[38;5;124mvalue\u001b[39m\u001b[38;5;124m\"\u001b[39m] \u001b[38;5;241m=\u001b[39m \u001b[38;5;28mself\u001b[39m\u001b[38;5;241m.\u001b[39m_unwrap_value(response\u001b[38;5;241m.\u001b[39mget(\u001b[38;5;124m\"\u001b[39m\u001b[38;5;124mvalue\u001b[39m\u001b[38;5;124m\"\u001b[39m, \u001b[38;5;28;01mNone\u001b[39;00m))\n\u001b[1;32m    431\u001b[0m     \u001b[38;5;28;01mreturn\u001b[39;00m response\n",
      "File \u001b[0;32m~/Work/webscrape/myenv/lib/python3.12/site-packages/selenium/webdriver/remote/errorhandler.py:232\u001b[0m, in \u001b[0;36mErrorHandler.check_response\u001b[0;34m(self, response)\u001b[0m\n\u001b[1;32m    230\u001b[0m         alert_text \u001b[38;5;241m=\u001b[39m value[\u001b[38;5;124m\"\u001b[39m\u001b[38;5;124malert\u001b[39m\u001b[38;5;124m\"\u001b[39m]\u001b[38;5;241m.\u001b[39mget(\u001b[38;5;124m\"\u001b[39m\u001b[38;5;124mtext\u001b[39m\u001b[38;5;124m\"\u001b[39m)\n\u001b[1;32m    231\u001b[0m     \u001b[38;5;28;01mraise\u001b[39;00m exception_class(message, screen, stacktrace, alert_text)  \u001b[38;5;66;03m# type: ignore[call-arg]  # mypy is not smart enough here\u001b[39;00m\n\u001b[0;32m--> 232\u001b[0m \u001b[38;5;28;01mraise\u001b[39;00m exception_class(message, screen, stacktrace)\n",
      "\u001b[0;31mNoSuchElementException\u001b[0m: Message: no such element: Unable to locate element: {\"method\":\"xpath\",\"selector\":\"//*[@id='aspnetForm']/div[4]/div[5]/div/div/table/tbody/tr[5]/td[2]\"}\n  (Session info: chrome=135.0.7049.52); For documentation on this error, please visit: https://www.selenium.dev/documentation/webdriver/troubleshooting/errors#no-such-element-exception\nStacktrace:\n#0 0x560be107675a <unknown>\n#1 0x560be0b294b0 <unknown>\n#2 0x560be0b7a9b3 <unknown>\n#3 0x560be0b7aba1 <unknown>\n#4 0x560be0bc91f4 <unknown>\n#5 0x560be0ba05bd <unknown>\n#6 0x560be0bc65e0 <unknown>\n#7 0x560be0ba0363 <unknown>\n#8 0x560be0b6cd63 <unknown>\n#9 0x560be0b6d9c1 <unknown>\n#10 0x560be103ba6b <unknown>\n#11 0x560be103f951 <unknown>\n#12 0x560be1023b62 <unknown>\n#13 0x560be10404c4 <unknown>\n#14 0x560be100813f <unknown>\n#15 0x560be10646f8 <unknown>\n#16 0x560be10648d6 <unknown>\n#17 0x560be10755a6 <unknown>\n#18 0x7f6c3a69caa4 <unknown>\n#19 0x7f6c3a729c3c <unknown>\n"
     ]
    }
   ],
   "source": [
    "url = \"https://merolagani.com/AnnouncementList.aspx\"\n",
    "driver = start_selenium(url)\n",
    "div_list = driver.find_elements(By.CLASS_NAME, \"media\")\n",
    "for div in div_list:\n",
    "    date = div.find_element(By.CLASS_NAME, \"text-muted\").text\n",
    "    date_obj = datetime.datetime.strptime(date, \"%b %d, %Y\")\n",
    "    formatted_date = date_obj.strftime(\"%Y-%m-%d\")\n",
    "    link_element = div.find_element(By.TAG_NAME, \"a\")\n",
    "    link_url = link_element.get_attribute(\"href\")\n",
    "    announcement = div.find_element(By.CLASS_NAME, \"media-body\").text\n",
    "    print(announcement)\n",
    "    if link_url:\n",
    "        driver = start_selenium(link_url)\n",
    "        tags_path = driver.find_element(\n",
    "            By.XPATH,\n",
    "            \"//*[@id='aspnetForm']/div[4]/div[5]/div/div/table/tbody/tr[5]/td[2]\",\n",
    "        ).text\n",
    "        fields = [field.strip() for field in tags_path.split(\"    \") if field.strip()]\n",
    "        print(fields)"
   ]
  },
  {
   "cell_type": "code",
   "execution_count": null,
   "id": "6733d745",
   "metadata": {},
   "outputs": [],
   "source": []
  }
 ],
 "metadata": {
  "kernelspec": {
   "display_name": "myenv",
   "language": "python",
   "name": "python3"
  },
  "language_info": {
   "codemirror_mode": {
    "name": "ipython",
    "version": 3
   },
   "file_extension": ".py",
   "mimetype": "text/x-python",
   "name": "python",
   "nbconvert_exporter": "python",
   "pygments_lexer": "ipython3",
   "version": "3.12.3"
  }
 },
 "nbformat": 4,
 "nbformat_minor": 5
}
