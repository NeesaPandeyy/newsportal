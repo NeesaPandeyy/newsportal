{
 "cells": [
  {
   "cell_type": "code",
   "execution_count": 64,
   "id": "aaabbaac",
   "metadata": {},
   "outputs": [],
   "source": [
    "import time\n",
    "\n",
    "from selenium import webdriver\n",
    "from selenium.common.exceptions import NoSuchElementException, TimeoutException\n",
    "from selenium.webdriver.chrome.service import Service\n",
    "from selenium.webdriver.common.by import By\n",
    "from selenium.webdriver.common.keys import Keys\n",
    "from selenium.webdriver.support import expected_conditions as EC\n",
    "from selenium.webdriver.support.ui import WebDriverWait\n",
    "from webdriver_manager.chrome import ChromeDriverManager\n",
    "\n",
    "\n",
    "url = \"https://www.ratopati.com\"\n",
    "options = webdriver.ChromeOptions()\n",
    "options.add_argument(\"--headless\")\n",
    "service = Service(ChromeDriverManager().install())\n",
    "driver = webdriver.Chrome(service=service)\n",
    "driver.get(url)\n",
    "time.sleep(2)"
   ]
  },
  {
   "cell_type": "code",
   "execution_count": 65,
   "id": "2085497f",
   "metadata": {},
   "outputs": [
    {
     "name": "stdout",
     "output_type": "stream",
     "text": [
      "Error in handling alert:<class 'Exception'>\n",
      "No close button\n",
      "No close button\n",
      "No close button\n",
      "No close button\n"
     ]
    }
   ],
   "source": [
    "try:\n",
    "    WebDriverWait(driver, 5).until(EC.alert_is_present())\n",
    "    alert = driver.switch_to.alert\n",
    "    alert.accept()\n",
    "except Exception:\n",
    "    print(f\"Error in handling alert:{Exception}\")\n",
    "try:\n",
    "    close_xpaths = [\n",
    "        '//button[@type=\"button\" and @class=\"close\" and @aria-label=\"Close\"]',\n",
    "        '//*[@id=\"roadblock-ad\"]/div/div/i',\n",
    "        '//*[@id=\"ratopati-app\"]/div[1]/section/div/div[2]/button',\n",
    "        '//*[@id=\"onesignal-slidedown-cancel-button\"]',\n",
    "    ]\n",
    "    for xpath in close_xpaths:\n",
    "        try:\n",
    "            close_button = WebDriverWait(driver, 1).until(\n",
    "                EC.element_to_be_clickable((By.XPATH, xpath))\n",
    "            )\n",
    "            close_button.click()\n",
    "            break\n",
    "        except (NoSuchElementException, TimeoutException):\n",
    "            print(\"No close button\")\n",
    "except (NoSuchElementException, TimeoutException):\n",
    "    print(\"No button found\")"
   ]
  },
  {
   "cell_type": "code",
   "execution_count": 66,
   "id": "841bdc2a",
   "metadata": {},
   "outputs": [
    {
     "name": "stdout",
     "output_type": "stream",
     "text": [
      "Error in handling alert:<class 'Exception'>\n",
      "No close button\n",
      "No close button\n",
      "No close button\n",
      "here\n",
      "प्रदेश युवा सम्मेलन : जिम्मेवार नेतृत्वका लागि युवापुस्ताले काउन्टर दिनुपर्छ\n",
      "--------\n",
      "मकवानपुर । बागमती प्रदेश युवा सम्मेलनको बहसमा राजनीतिक नेतृत्वलाई जिम्मेवार र उत्तरदायी बनाउन युवापुस्ताले काउण्टर दिन जरुरी रहेको बताएका छन् । उनीहरुले सिप सहितको शिक्षा र अवसरका लागि राजनीतिक नेतृत्वलाई जिम्मेवार बनाउन युवाहरूले नेतृत्वमा धावा बोल्न जरुरी रहेको बताए । बागमती प्रदेश युवा परिषद्को आयोजनामा हेटौँडामा आयोजित ३ दिने युवा सम्मेलनको दोस्रो दिनको छलफलमा सहभागीहरूले राजनीतिक नेतृत्वको शैक्षिक गुणस्तर र युवा पलायनको चिन्ताले मात्र नहुने बताए । उनीहरुले पछिल्लो समय युवाहरू अवसरको खोजीमा विदेश जाने तथा रोजगारीको ग्यारेन्टी गर्न नसक्दा समस्या भएको बताए । युवाहरूलाई राजनीतिक संरचनामा उपयुक्त स्थान सहित सुरक्षित गर्न नसक्दा पलायनको अवस्था विकराल बनेको उनीहरूको चिन्ता थियो । सम्मेलन अन्तर्गतको सोमबार भएको ‘नीति नेतृत्व र युवा सहभागिता’ विषयक प्यानल छलफलमा सहभागी नेकपा एमालेका मुख्य सचेतक महेश बर्तौलाले देशको युवा शक्ति राजनीतिबाट बेखबर बन्न नहुने बताए । उनले देशको राजनीतिक अवस्था र भविष्यका विषयमा युवाहरूले चासो सहित निगरानी राद्यनु पर्ने बताए । युवाहरू देशको राजनीति प्रति सचेत बन्न जरुरी रहेको उनले औँल्याए । युवाहरू राजनीतिबाट टाढा हुँदा देश ५० वर्ष पछाडि जान सक्ने उनले बताए । दलका शीर्ष नेतृत्वहरू राजनीतिबाट बाहिरिँदै गर्दा देश ‘कम्पास हराएको जहाज’ जस्तो हुन सक्ने उनको भनाई छ  । मुख्य सचेतक बर्तौलाले पछिल्लो समय युवा पुस्ताले राजनीतिलाई घृणाको दृष्टिकोणले हेर्ने बताए । देशको आर्थिक, सामाजिक लगायत सबै क्षेत्रको विकासको नेतृत्व राजनीतिबाट हुने भएकाले युवाहरूको सहभागिता अनिवार्य रहेको बताए । जिम्मेवारी बोधका साथ युवापुस्ताले नेतृत्वलाई काउन्टर दिनुपर्ने उनले बताए । कार्यक्रममा नेपाली कांग्रेसका सहमहामन्त्री जीवन परियारले राजनीतिबाटै देशको आर्थिक, सामाजिक परिवर्तन सम्भव रहेकाले युवाहरूले सशक्त रूपमा अवसरका लागि प्रयत्न गर्नुपर्ने बताए ।  देशको राजनीतिलाई व्यवस्थित गर्ने जिम्मेवारी युवा पुस्ताले लिनुपर्ने उनको भनाई छ । सहमहामन्त्री परियारले राज्यको हरेक तहमा युवाको नेतृत्व आवश्यक छ भन्ने विषयमा प्रमुख राजनीतिक दलहरू एकमत रहेको उनले बताए । युवा पुस्तालाई आर्थिक उपार्जनको बाटोमा अघि बढाउन जरुरी रहेको उनले बताए । नेकपा माओवादी केन्द्रका सांसद पूर्णबहादुर घर्तीले नेतृत्वको निर्माण उमेरले नभई विचारले निर्धारण गर्ने बताए । अहिले नेपालमा लोकतान्त्रिक पद्धतिद्वारा नेतृत्व चयन हुने व्यवस्था भएकोले नेतृत्व माथि धावा बोल्न युवाहरू अग्रसर हुन जरुरी रहेको औँल्याए ।  शीर्ष नेतृत्वलाई लोकतान्त्रिक विधिबाटै पराजित गर्न युवा पुस्ताले उत्कृष्ट सिद्धान्त र विचार प्रतिपादन गर्नुपर्ने उनले बताए । समयको अधिकतम सदुपयोग गरेर आफूलाई देश र जनता प्रति समर्पित गर्न समेत उनले आग्रह गरे । सीपयुक्त शिक्षाको अपरिहार्यता कार्यक्रममा ‘शिक्षामा सीप र ईनोभेसन’ विषयक प्यानल छलफलका क्रममा सहभागीहरूले वर्तमान समयमा सिपयुक्त शिक्षाको अपरिहार्यता खड्कीएको बताए । उनीहरुले हाल शैक्षिक बेरोजगारीको सङ्ख्या बढ्दो रहेको बताए । शिक्षालाई सीपसँग जोड्न तथा विद्यार्थीहरूलाई इन्टर्नसिपको व्यवस्था गर्ने पाठ्यक्रम नहुँदा समस्या भइरहेको उनीहरुले बताए । कार्यक्रममा बोल्दै बागमती प्रदेशसभा सदस्य एवम् शिक्षा, स्वास्थ्य तथा कृषि समिति सदस्य, सुस्पा भुजेल सरकार र युवालाई जोड्ने गरी नीतिगत तहदेखि नै काम गरिहरेको बताइन् । संविधानको अधिनमा रहेर शिक्षा स्वास्थ्य र कृषि लगायतका क्षेत्रमा कानुनी प्रबन्ध सहित काम भइरहेको उनले बताइन् । बागमती प्रदेश सरकारले पढ्दै कमाउँदै कार्यक्रम, स्कुल कलेजमा प्राविधिक ३९० घण्टाको तालिम, प्राविधिक स्कुललाई अनुदान, स्थानीय सरकारको सहकार्यमा सीप विकास तालिम, प्रदेश सिटिइभीटी मार्फत व्यवसायी तालिम सञ्चालन गर्दै आएको उनको भनाई छ । युवाहरूमा रोजगारीको अवसर सृजना गर्न प्रदेशका १३ जिल्लाका ३० विद्यालयमा प्राविधिक शिक्षा मार्फत जीवन उपयोगी सिप सिकाउने काम गरिरहेको उनले बताइन् । कार्यक्रममा संविधानसभा सदस्य एवम् मकवानपुर बहुमुखी क्याम्पसका अध्यक्ष अनन्त पौडेलले युवाहरू लाई सिप र ज्ञानसँग जोड्न जरुरी रहेको बताए । कलेजमा नवप्रवर्तन केन्द्र सञ्चालन गरी युवाहरूलाई नवीनतम कार्य अघि बढाउने काम गरिरहेको उनले बताए । जनप्रिय प्राविधिक विद्यालय मकवानपुरका प्रधानाध्यापक भुपेन्द्र चौलागाईले विद्यालय तहमा पढ्दै कमाउँदै कार्यक्रम प्रभावकारी भइरहेको बताए । सो कार्यक्रमले युवा उद्यमशीलता विकासमा सहयोग पुगेको बताए । विद्यालयमा विभिन्न क्षेत्रमा प्राविधिक तालिम सञ्चालन गरेर विद्यार्थीहरूलाई औद्योगिक प्रतिष्ठानमा संलग्न गराइएको उनको भनाई छ । युवा विद्यार्थीहरूलाई आर्थिक उपार्जनमा जोड्न सके मात्रै शिक्षामा उनीहरूको आकर्षण कायम राख्न सकिने उनले बताए ।   शिक्षाविद् अनन्त घिमिरेका अनुसार देशमा प्राविधिक शिक्षा सफल रूपमा चलिरहेको छ । तर, केही चुनौती कायमै रहेको उनले बताए । देशभरिमा ६६ वटा प्राविधिक शिक्षालय सञ्चालनमा रहेको उनले बताए । प्राविधिक शिक्षालाई व्यवस्थित गर्न तथा चुनौती न्यूनीकरण गर्न युवाहरू सचेत हुनुपर्ने उनले बताए । शिक्षामा सीप नजोडी समृद्धिको बाटो तय हुन नसक्ने उनको भनाई छ । ‘पहिले हामीले सीप सिक्ने, र त्यो सिप टिक्ने हुनुपर्‍यो । त्यो बिक्ने पनि हुनुपर्‍यो । देशमा सिक्ने, यही टिक्ने र सीप पनि यही बिक्ने हुनुपर्‍यो । ब्रेन ड्रेन ठुलो समस्याका रूपमा छ । युवा पलायन बढ्दो छ ।’ उनले भने, ‘अर्कोतर्फ अब अभिभावक शिक्षामा पनि लगानी गर्नुपर्ने देखिएको छ । बच्चालाई पढ्ने मात्रै नभई व्यवहारिक ज्ञान दिनुपर्ने देखिन्छ । अभिभावकमा त्यो चेत नभएकाले बाल विकासको अगाडिदेखि नै बच्चाहरू स्पष्ट हुँदैनन् । उनीहरू अलमलमा देखिन्छन् । अभिभावक स्पष्ट हुनसके उनीहरूलाई पनि स्पष्ट बनाउन सकिन्छ ।’\n"
     ]
    }
   ],
   "source": [
    "search = driver.find_element(\n",
    "    By.XPATH, \"//*[@id='ratopati-app']/header/div/div/div[3]/a[2]\"\n",
    ")\n",
    "search.click()\n",
    "time.sleep(2)\n",
    "search_bar = driver.find_element(By.XPATH, \"//*[@id='ratopati-app']/div[5]/form/input\")\n",
    "search_bar.send_keys(\"प्रदेश\")\n",
    "search_bar.send_keys(Keys.RETURN)\n",
    "time.sleep(2)\n",
    "\n",
    "main_div = driver.find_element(\n",
    "    By.XPATH, \"//*[@id='ratopati-app']/section/div/div/div[1]/div/div[3]\"\n",
    ")\n",
    "div_list = main_div.find_elements(By.TAG_NAME, \"div\")\n",
    "\n",
    "# div_list = driver.find_elements(By.TAG_NAME, \"h2\")\n",
    "for div in div_list:\n",
    "    try:\n",
    "        link = div.find_element(By.TAG_NAME, \"a\")\n",
    "        link_url = link.get_attribute(\"href\")\n",
    "        link.click()\n",
    "        try:\n",
    "            WebDriverWait(driver, 5).until(EC.alert_is_present())\n",
    "            alert = driver.switch_to.alert\n",
    "            alert.accept()\n",
    "        except Exception:\n",
    "            print(f\"Error in handling alert:{Exception}\")\n",
    "        try:\n",
    "            close_xpaths = [\n",
    "                '//button[@type=\"button\" and @class=\"close\" and @aria-label=\"Close\"]',\n",
    "                '//*[@id=\"roadblock-ad\"]/div/div/i',\n",
    "                '//*[@id=\"ratopati-app\"]/div[1]/section/div/div[2]/button',\n",
    "            ]\n",
    "            for xpath in close_xpaths:\n",
    "                try:\n",
    "                    close_button = WebDriverWait(driver, 1).until(\n",
    "                        EC.element_to_be_clickable((By.XPATH, xpath))\n",
    "                    )\n",
    "                    close_button.click()\n",
    "                    break\n",
    "                except (NoSuchElementException, TimeoutException):\n",
    "                    print(\"No close button\")\n",
    "        except (NoSuchElementException, TimeoutException):\n",
    "            print(\"No button found\")\n",
    "\n",
    "        time.sleep(2)\n",
    "        try:\n",
    "            print(\"here\")\n",
    "            headline = driver.find_element(By.TAG_NAME, \"h2\").text.replace(\"\\n\", \" \")\n",
    "            summary = driver.find_element(By.CLASS_NAME, \"the-content\").text.replace(\n",
    "                \"\\n\", \" \"\n",
    "            )\n",
    "        except Exception:\n",
    "            print(f\"Error in summary:{Exception}\")\n",
    "\n",
    "        print(headline)\n",
    "        print(\"--------\")\n",
    "        print(summary)\n",
    "    except:\n",
    "        continue\n",
    "\n",
    "    finally:\n",
    "        if driver:\n",
    "            driver.quit()"
   ]
  }
 ],
 "metadata": {
  "kernelspec": {
   "display_name": "myenv",
   "language": "python",
   "name": "python3"
  },
  "language_info": {
   "codemirror_mode": {
    "name": "ipython",
    "version": 3
   },
   "file_extension": ".py",
   "mimetype": "text/x-python",
   "name": "python",
   "nbconvert_exporter": "python",
   "pygments_lexer": "ipython3",
   "version": "3.12.3"
  }
 },
 "nbformat": 4,
 "nbformat_minor": 5
}
